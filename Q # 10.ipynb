{
 "cells": [
  {
   "cell_type": "code",
   "execution_count": 5,
   "id": "59486156",
   "metadata": {},
   "outputs": [
    {
     "name": "stdout",
     "output_type": "stream",
     "text": [
      "50\n"
     ]
    }
   ],
   "source": [
    "# Question\n",
    "# 10.Write a Python program to sum all the numeric items in a list?\n",
    "\n",
    "# Answer\n",
    "num = [1,2,3,4,5,6,7,8,9,5];\n",
    "Sum = sum(num);\n",
    "print(Sum);\n"
   ]
  },
  {
   "cell_type": "code",
   "execution_count": null,
   "id": "fe0b83cf",
   "metadata": {},
   "outputs": [],
   "source": []
  }
 ],
 "metadata": {
  "kernelspec": {
   "display_name": "Python 3",
   "language": "python",
   "name": "python3"
  },
  "language_info": {
   "codemirror_mode": {
    "name": "ipython",
    "version": 3
   },
   "file_extension": ".py",
   "mimetype": "text/x-python",
   "name": "python",
   "nbconvert_exporter": "python",
   "pygments_lexer": "ipython3",
   "version": "3.8.8"
  }
 },
 "nbformat": 4,
 "nbformat_minor": 5
}
