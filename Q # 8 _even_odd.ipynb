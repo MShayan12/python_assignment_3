{
 "cells": [
  {
   "cell_type": "code",
   "execution_count": 2,
   "id": "faf7dae0",
   "metadata": {},
   "outputs": [
    {
     "name": "stdout",
     "output_type": "stream",
     "text": [
      "Enter the Integer: 5\n",
      "5 is odd\n"
     ]
    }
   ],
   "source": [
    "# Question\n",
    "# 8. Write a program which take input from user and identify that the given number is even\n",
    "# or odd?\n",
    "\n",
    "# Answer\n",
    "num = int(input(\"Enter the Integer: \"));\n",
    "if (num % 2) == 0:\n",
    "    print(str(num)+ \" is Even\");\n",
    "else:\n",
    "    print(str(num)+ \" is odd\");"
   ]
  },
  {
   "cell_type": "code",
   "execution_count": null,
   "id": "aa49422b",
   "metadata": {},
   "outputs": [],
   "source": []
  }
 ],
 "metadata": {
  "kernelspec": {
   "display_name": "Python 3",
   "language": "python",
   "name": "python3"
  },
  "language_info": {
   "codemirror_mode": {
    "name": "ipython",
    "version": 3
   },
   "file_extension": ".py",
   "mimetype": "text/x-python",
   "name": "python",
   "nbconvert_exporter": "python",
   "pygments_lexer": "ipython3",
   "version": "3.8.8"
  }
 },
 "nbformat": 4,
 "nbformat_minor": 5
}
