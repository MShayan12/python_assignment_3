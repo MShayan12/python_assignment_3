{
 "cells": [
  {
   "cell_type": "code",
   "execution_count": 4,
   "id": "81782d6c",
   "metadata": {},
   "outputs": [
    {
     "name": "stdout",
     "output_type": "stream",
     "text": [
      "Current Date & Time is: \n",
      " 2021-10-23 02:50:58.140068\n"
     ]
    }
   ],
   "source": [
    "# Question\n",
    "# 3. Write a Python program to display the current date and time. \n",
    "\n",
    "# Answer\n",
    "import datetime\n",
    "now = datetime.datetime.now();\n",
    "print(\"Current Date & Time is: \\n\",current);\n"
   ]
  },
  {
   "cell_type": "code",
   "execution_count": null,
   "id": "4db83b42",
   "metadata": {},
   "outputs": [],
   "source": []
  }
 ],
 "metadata": {
  "kernelspec": {
   "display_name": "Python 3",
   "language": "python",
   "name": "python3"
  },
  "language_info": {
   "codemirror_mode": {
    "name": "ipython",
    "version": 3
   },
   "file_extension": ".py",
   "mimetype": "text/x-python",
   "name": "python",
   "nbconvert_exporter": "python",
   "pygments_lexer": "ipython3",
   "version": "3.8.8"
  }
 },
 "nbformat": 4,
 "nbformat_minor": 5
}
