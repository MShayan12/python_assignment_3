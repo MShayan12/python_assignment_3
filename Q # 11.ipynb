{
 "cells": [
  {
   "cell_type": "code",
   "execution_count": 8,
   "id": "12bda7ff",
   "metadata": {},
   "outputs": [
    {
     "name": "stdout",
     "output_type": "stream",
     "text": [
      "Largest element is: 100\n"
     ]
    }
   ],
   "source": [
    "# Question\n",
    "# 11.Write a Python program to get the largest number from a numeric list.\n",
    "\n",
    "# Answer\n",
    "list1 = [1,2,3,4,5,6,7,8,9,0,22,10,18,100,99,85];\n",
    "list1.sort();\n",
    "print(\"Largest element is:\", list1[-1]);"
   ]
  },
  {
   "cell_type": "code",
   "execution_count": null,
   "id": "2dc569bc",
   "metadata": {},
   "outputs": [],
   "source": []
  }
 ],
 "metadata": {
  "kernelspec": {
   "display_name": "Python 3",
   "language": "python",
   "name": "python3"
  },
  "language_info": {
   "codemirror_mode": {
    "name": "ipython",
    "version": 3
   },
   "file_extension": ".py",
   "mimetype": "text/x-python",
   "name": "python",
   "nbconvert_exporter": "python",
   "pygments_lexer": "ipython3",
   "version": "3.8.8"
  }
 },
 "nbformat": 4,
 "nbformat_minor": 5
}
