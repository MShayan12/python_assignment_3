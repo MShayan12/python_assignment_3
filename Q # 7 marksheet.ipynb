{
 "cells": [
  {
   "cell_type": "code",
   "execution_count": 1,
   "id": "ca38556e",
   "metadata": {},
   "outputs": [
    {
     "name": "stdout",
     "output_type": "stream",
     "text": [
      "Enter Your Name: Shayan\n",
      "Enter Computer Marks: 93\n",
      "Enter Pak.Studies Marks: 89\n",
      "Enter English Marks: 84\n",
      "Enter Islamiat Marks: 96\n",
      "Enter Mathematics Marks: 80\n",
      "Grade A\n",
      "Congratulation For Your Success Mr. Shayan\n"
     ]
    }
   ],
   "source": [
    "# Question\n",
    "# 7. Write a program which takes 5 inputs from user for different subject’s marks, total it\n",
    "# and generate mark sheet using grades ?\n",
    "\n",
    "# Answer\n",
    "Name = input(\"Enter Your Name: \");\n",
    "cong = \"Congratulation \" + \"For Your Success Mr. \";\n",
    "computer = input(\"Enter Computer Marks: \");\n",
    "pak_studies = input(\"Enter Pak.Studies Marks: \");\n",
    "english = int(input(\"Enter English Marks: \"));\n",
    "islamiat = int(input(\"Enter Islamiat Marks: \"));\n",
    "maths = int(input(\"Enter Mathematics Marks: \"));\n",
    "avg = (int(computer) + int(pak_studies) + english + islamiat + maths);\n",
    "if avg >= 90:\n",
    "    print(\"Grade A\");\n",
    "    print(cong + Name);\n",
    "elif avg < 90 and avg >= 80:\n",
    "    print(\"Grade B\");\n",
    "elif avg < 80 and avg >= 70:\n",
    "    print(\"Grade C\");\n",
    "elif avg < 70 and percent >= 60:\n",
    "    print(\"Grade D\");\n",
    "elif avg < 60 and percent >= 33:\n",
    "    print(\"Grade E\");\n",
    "elif avg < 0 and percent > 100:\n",
    "    print(\"You didn't Write correctly! \");\n",
    "else:\n",
    "    print(\"Fail\");"
   ]
  },
  {
   "cell_type": "code",
   "execution_count": null,
   "id": "eff796e4",
   "metadata": {},
   "outputs": [],
   "source": []
  }
 ],
 "metadata": {
  "kernelspec": {
   "display_name": "Python 3",
   "language": "python",
   "name": "python3"
  },
  "language_info": {
   "codemirror_mode": {
    "name": "ipython",
    "version": 3
   },
   "file_extension": ".py",
   "mimetype": "text/x-python",
   "name": "python",
   "nbconvert_exporter": "python",
   "pygments_lexer": "ipython3",
   "version": "3.8.8"
  }
 },
 "nbformat": 4,
 "nbformat_minor": 5
}
