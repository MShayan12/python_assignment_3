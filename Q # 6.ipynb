{
 "cells": [
  {
   "cell_type": "code",
   "execution_count": 4,
   "id": "dc5d0c4c",
   "metadata": {},
   "outputs": [
    {
     "name": "stdout",
     "output_type": "stream",
     "text": [
      "Enter milk price: 130\n",
      "Enter Biscuit price: 25\n",
      "Your Total Price is 155\n"
     ]
    }
   ],
   "source": [
    "# Question\n",
    "# 6. Write a python program which takes two inputs from user and print them addition\n",
    "\n",
    "# Answer\n",
    "#just like Shopping\n",
    "\n",
    "milk_price = int(input(\"Enter milk price: \"));\n",
    "biscuit_price = int(input(\"Enter Biscuit price: \"));\n",
    "total = milk_price + biscuit_price;\n",
    "print(\"Your Total Price is: \" + str(total));"
   ]
  },
  {
   "cell_type": "code",
   "execution_count": null,
   "id": "b7db03a5",
   "metadata": {},
   "outputs": [],
   "source": []
  }
 ],
 "metadata": {
  "kernelspec": {
   "display_name": "Python 3",
   "language": "python",
   "name": "python3"
  },
  "language_info": {
   "codemirror_mode": {
    "name": "ipython",
    "version": 3
   },
   "file_extension": ".py",
   "mimetype": "text/x-python",
   "name": "python",
   "nbconvert_exporter": "python",
   "pygments_lexer": "ipython3",
   "version": "3.8.8"
  }
 },
 "nbformat": 4,
 "nbformat_minor": 5
}
