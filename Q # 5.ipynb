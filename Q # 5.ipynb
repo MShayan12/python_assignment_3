{
 "cells": [
  {
   "cell_type": "code",
   "execution_count": 3,
   "id": "819819b3",
   "metadata": {},
   "outputs": [
    {
     "name": "stdout",
     "output_type": "stream",
     "text": [
      "Enter Your First Name: Muhammad Shayan\n",
      "Enter Your Last Name: Arshad\n",
      "Hello Arshad Muhammad Shayan\n"
     ]
    }
   ],
   "source": [
    "# Question:\n",
    "# 5. Write a Python program which accepts the user's first and last name and print them in \n",
    "# reverse order with a space between them.\n",
    "\n",
    "# Answer:\n",
    "first_name = input(\"Enter Your First Name: \");\n",
    "last_name = input(\"Enter Your Last Name: \");\n",
    "print(\"Hello \"+ last_name + \" \" + first_name);"
   ]
  },
  {
   "cell_type": "code",
   "execution_count": null,
   "id": "076077ca",
   "metadata": {},
   "outputs": [],
   "source": []
  }
 ],
 "metadata": {
  "kernelspec": {
   "display_name": "Python 3",
   "language": "python",
   "name": "python3"
  },
  "language_info": {
   "codemirror_mode": {
    "name": "ipython",
    "version": 3
   },
   "file_extension": ".py",
   "mimetype": "text/x-python",
   "name": "python",
   "nbconvert_exporter": "python",
   "pygments_lexer": "ipython3",
   "version": "3.8.8"
  }
 },
 "nbformat": 4,
 "nbformat_minor": 5
}
